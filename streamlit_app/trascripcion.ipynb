{
 "cells": [
  {
   "cell_type": "code",
   "execution_count": 1,
   "id": "eaaf681c",
   "metadata": {},
   "outputs": [],
   "source": [
    "import os\n",
    "import pandas as pd"
   ]
  },
  {
   "cell_type": "code",
   "execution_count": null,
   "id": "c01ac618",
   "metadata": {},
   "outputs": [],
   "source": [
    "import os\n",
    "import pandas as pd\n",
    "\n",
    "# Configuración de rutas (MODIFICA ESTAS RUTAS SEGÚN TU CASO)\n",
    "ruta_txt = r'G:\\.shortcut-targets-by-id\\1qiRlhHfAPP798Yj4Of2KBcgPILHzPquI\\maquina virtual\\ventas_16-07-2025'  # Carpeta con los txt\n",
    "ruta_salida = r'C:\\Users\\juan_garnicac\\Documents\\escuchaSocial\\resultado.xlsx'  # Archivo Excel de salida\n",
    "\n",
    "# Lista para almacenar los datos\n",
    "datos = []\n",
    "\n",
    "# Procesar cada archivo txt en la carpeta\n",
    "for nombre_archivo in os.listdir(ruta_txt):\n",
    "    if nombre_archivo.endswith('.txt'):\n",
    "        ruta_completa = os.path.join(ruta_txt, nombre_archivo)\n",
    "        \n",
    "        try:\n",
    "            with open(ruta_completa, 'r', encoding='utf-8') as archivo:\n",
    "                contenido = archivo.read().strip()\n",
    "        except:\n",
    "            try:\n",
    "                with open(ruta_completa, 'r', encoding='latin-1') as archivo:\n",
    "                    contenido = archivo.read().strip()\n",
    "            except:\n",
    "                contenido = \"ERROR: No se pudo leer el archivo\"\n",
    "        \n",
    "        datos.append({\n",
    "            'nombre_archivo': nombre_archivo,\n",
    "            'contenido': contenido\n",
    "        })\n",
    "\n",
    "# Crear DataFrame y guardar Excel\n",
    "df = pd.DataFrame(datos)\n",
    "df.to_excel(ruta_salida, index=False, engine='openpyxl')\n",
    "\n",
    "print(f'Proceso completado. Se procesaron {len(datos)} archivos.')\n",
    "print(f'Archivo Excel guardado en: {ruta_salida}')"
   ]
  }
 ],
 "metadata": {
  "kernelspec": {
   "display_name": "Python 3",
   "language": "python",
   "name": "python3"
  },
  "language_info": {
   "codemirror_mode": {
    "name": "ipython",
    "version": 3
   },
   "file_extension": ".py",
   "mimetype": "text/x-python",
   "name": "python",
   "nbconvert_exporter": "python",
   "pygments_lexer": "ipython3",
   "version": "3.13.5"
  }
 },
 "nbformat": 4,
 "nbformat_minor": 5
}
